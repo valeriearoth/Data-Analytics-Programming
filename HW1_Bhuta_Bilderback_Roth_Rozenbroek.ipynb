{
 "cells": [
  {
   "cell_type": "code",
   "execution_count": 1,
   "metadata": {
    "collapsed": true
   },
   "outputs": [],
   "source": [
    "import random"
   ]
  },
  {
   "cell_type": "code",
   "execution_count": null,
   "metadata": {
    "collapsed": false
   },
   "outputs": [
    {
     "name": "stdout",
     "output_type": "stream",
     "text": [
      "Please choose Rock, Paper, Scissors, or Quit. Rock\n",
      "You lost.\n",
      "Please choose Rock, Paper, Scissors, or Quit. Paper\n",
      "You lost.\n",
      "Please choose Rock, Paper, Scissors, or Quit. Rock\n",
      "You lost.\n",
      "Please choose Rock, Paper, Scissors, or Quit. Rock\n",
      "You lost.\n",
      "Please choose Rock, Paper, Scissors, or Quit. Rock\n",
      "You lost.\n",
      "Please choose Rock, Paper, Scissors, or Quit. Paper\n",
      "You tied!\n",
      "Please choose Rock, Paper, Scissors, or Quit. Scissors\n",
      "You win!\n"
     ]
    }
   ],
   "source": [
    "def getHumanChoice():\n",
    "    inputFound = False\n",
    "    while not(inputFound):\n",
    "        humanChoice = raw_input(\"Please choose Rock, Paper, Scissors, or Quit. \")\n",
    "        if (humanChoice == \"Rock\" or humanChoice == \"Paper\" or humanChoice == \"Scissors\" or humanChoice == \"Quit\"):\n",
    "            inputFound = True\n",
    "            return humanChoice\n",
    "        else:\n",
    "            print \"Not a valid input.\"\n",
    "\n",
    "def getComputerChoice(humanChoice, paperCount, rockCount, scissorsCount):\n",
    "    if humanChoice == \"Paper\":\n",
    "        paperCount += 1\n",
    "    elif humanChoice == \"Rock\":\n",
    "        rockCount += 1\n",
    "    else:\n",
    "        scissorsCount += 1\n",
    "    m = max([paperCount, rockCount, scissorsCount]) #if tie?\n",
    "    if m == paperCount:\n",
    "        computerChoice = \"Scissors\"\n",
    "    elif m == rockCount:\n",
    "        computerChoice = \"Paper\"\n",
    "    else:\n",
    "        computerChoice = \"Rock\"\n",
    "    return computerChoice, paperCount, rockCount, scissorsCount\n",
    "    \n",
    "def printOutput(humanChoice, computerChoice):\n",
    "    if (humanChoice == \"Quit\"):\n",
    "        print \"Thank you for playing.\"\n",
    "    elif (computerChoice == humanChoice):\n",
    "        print \"You tied!\"\n",
    "    elif (computerChoice == \"Rock\"):\n",
    "        if humanChoice == \"Paper\":\n",
    "            print \"You win!\"\n",
    "        else:\n",
    "            print \"You lost.\"\n",
    "    elif (computerChoice == \"Paper\"):\n",
    "        if humanChoice == \"Scissors\":\n",
    "            print \"You win!\"\n",
    "        else:\n",
    "            print \"You lost.\"\n",
    "    elif (computerChoice == \"Scissors\"):\n",
    "        if humanChoice == \"Rock\":\n",
    "            print \"You win!\"\n",
    "        else:\n",
    "            print \"You lost.\"\n",
    "\n",
    "quit = False\n",
    "paperCount = 0\n",
    "rockCount = 0\n",
    "scissorsCount = 0\n",
    "while(not quit):\n",
    "    humanChoice = getHumanChoice()\n",
    "    computerChoice, paperCount, rockCount, scissorsCount = getComputerChoice(humanChoice, paperCount, rockCount, scissorsCount)\n",
    "    printOutput(humanChoice, computerChoice)\n",
    "    if(humanChoice == \"Quit\"):\n",
    "        quit = True"
   ]
  },
  {
   "cell_type": "code",
   "execution_count": null,
   "metadata": {
    "collapsed": true
   },
   "outputs": [],
   "source": []
  },
  {
   "cell_type": "code",
   "execution_count": null,
   "metadata": {
    "collapsed": true
   },
   "outputs": [],
   "source": []
  }
 ],
 "metadata": {
  "anaconda-cloud": {},
  "kernelspec": {
   "display_name": "Python 2",
   "language": "python",
   "name": "python2"
  },
  "language_info": {
   "codemirror_mode": {
    "name": "ipython",
    "version": 2
   },
   "file_extension": ".py",
   "mimetype": "text/x-python",
   "name": "python",
   "nbconvert_exporter": "python",
   "pygments_lexer": "ipython2",
   "version": "2.7.11"
  }
 },
 "nbformat": 4,
 "nbformat_minor": 0
}
